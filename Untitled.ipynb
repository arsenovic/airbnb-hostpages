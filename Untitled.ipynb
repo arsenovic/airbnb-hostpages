{
 "cells": [
  {
   "cell_type": "code",
   "execution_count": 24,
   "metadata": {
    "collapsed": false
   },
   "outputs": [
    {
     "data": {
      "text/plain": [
       "<module 'scrape' from 'scrape.pyc'>"
      ]
     },
     "execution_count": 24,
     "metadata": {},
     "output_type": "execute_result"
    }
   ],
   "source": [
    "import creator\n",
    "reload(creator)\n",
    "import scrape\n",
    "reload(scrape)"
   ]
  },
  {
   "cell_type": "code",
   "execution_count": 25,
   "metadata": {
    "collapsed": false
   },
   "outputs": [
    {
     "name": "stdout",
     "output_type": "stream",
     "text": [
      "./_jekylls/317765/\n",
      "./_jekylls/4437968/\n",
      "./_jekylls/41657617/\n",
      "./_jekylls/7053776/\n",
      "./_jekylls/5938821/\n",
      "./_jekylls/55034788/\n",
      "./_jekylls/29755332/\n",
      "./_jekylls/41399220/\n",
      "./_jekylls/70838492/\n",
      "./_jekylls/24936886/\n",
      "./_jekylls/5150607/\n"
     ]
    }
   ],
   "source": [
    "#creator.scrape_and_create_sites()\n",
    "creator.create_sites(output_path='.')"
   ]
  },
  {
   "cell_type": "code",
   "execution_count": 10,
   "metadata": {
    "collapsed": false
   },
   "outputs": [
    {
     "name": "stdout",
     "output_type": "stream",
     "text": [
      "{'permalink': 'pretty', 'markdown': 'kramdown', 'description': 'You can edit this line in _config.yml. It will appear in your document head meta (for Google search results) and in your feed.xml site description.\\n', 'copyright': 'Copyright &copy; 2015 Your Name. All Rights Reserved.', 'author': 'Your Name', 'url': 'http://yoursite.com', 'title': 'Your Awesome Site', 'credits': 'Credits: Landing Page is a free to use, open source Bootstrap theme created by <a href=\"http://startbootstrap.com/\">Start Bootstrap</a>.', 'social': [{'url': 'https://www.facebook.com/', 'title': 'facebook'}, {'url': 'https://twitter.com/', 'title': 'twitter'}], 'email': 'your-email@domain.com'}\n"
     ]
    }
   ],
   "source": [
    "import yaml\n",
    "\n",
    "with open('/home/alex/Dropbox/airbnb4bnb/templates/nuetral/_config.yml') as f:\n",
    "    print yaml.load(f)"
   ]
  },
  {
   "cell_type": "code",
   "execution_count": 84,
   "metadata": {
    "collapsed": false
   },
   "outputs": [
    {
     "name": "stdout",
     "output_type": "stream",
     "text": [
      "author: Your Name\n",
      "copyright: Copyright &copy; 2015 Your Name. All Rights Reserved.\n",
      "credits: 'Credits: Landing Page is a free to use, open source Bootstrap theme created\n",
      "  by <a href=\"http://startbootstrap.com/\">Start Bootstrap</a>.'\n",
      "description: 'You can edit this line in _config.yml. It will appear in your document\n",
      "  head meta (for Google search results) and in your feed.xml site description.\n",
      "\n",
      "  '\n",
      "email: your-email@domain.com\n",
      "markdown: kramdown\n",
      "permalink: pretty\n",
      "social:\n",
      "- title: facebook\n",
      "- url: https://www.facebook.com/\n",
      "title: Your Awesome Site\n",
      "url: http://yoursite.com\n",
      "\n"
     ]
    }
   ],
   "source": [
    "print yaml.dump(x,default_flow_style=False)"
   ]
  },
  {
   "cell_type": "code",
   "execution_count": 60,
   "metadata": {
    "collapsed": false
   },
   "outputs": [],
   "source": [
    "import os "
   ]
  },
  {
   "cell_type": "code",
   "execution_count": 61,
   "metadata": {
    "collapsed": false
   },
   "outputs": [
    {
     "data": {
      "text/plain": [
       "32512"
      ]
     },
     "execution_count": 61,
     "metadata": {},
     "output_type": "execute_result"
    }
   ],
   "source": [
    "os.system('jekyl')"
   ]
  },
  {
   "cell_type": "code",
   "execution_count": null,
   "metadata": {
    "collapsed": true
   },
   "outputs": [],
   "source": []
  }
 ],
 "metadata": {
  "kernelspec": {
   "display_name": "IPython (Python 2)",
   "language": "python",
   "name": "python2"
  },
  "language_info": {
   "codemirror_mode": {
    "name": "ipython",
    "version": 2
   },
   "file_extension": ".py",
   "mimetype": "text/x-python",
   "name": "python",
   "nbconvert_exporter": "python",
   "pygments_lexer": "ipython2",
   "version": "2.7.11"
  }
 },
 "nbformat": 4,
 "nbformat_minor": 0
}
